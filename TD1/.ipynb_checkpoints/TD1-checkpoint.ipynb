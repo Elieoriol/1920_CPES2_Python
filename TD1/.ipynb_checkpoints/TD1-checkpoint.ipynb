{
 "cells": [
  {
   "cell_type": "markdown",
   "metadata": {},
   "source": [
    "# Echauffement"
   ]
  },
  {
   "cell_type": "code",
   "execution_count": 2,
   "metadata": {},
   "outputs": [],
   "source": [
    "import os\n",
    "os.chdir(\"output\")"
   ]
  },
  {
   "cell_type": "markdown",
   "metadata": {},
   "source": [
    "## Ex 1 : Fibonacci"
   ]
  },
  {
   "cell_type": "code",
   "execution_count": 3,
   "metadata": {},
   "outputs": [],
   "source": [
    "# 1\n",
    "def fib(file, n):\n",
    "    f = open(file, 'w')\n",
    "    fib_tab = [0]\n",
    "    f.write(str(0))\n",
    "    if n >= 1:\n",
    "        fib_tab.append(1)\n",
    "        f.write(\"\\n\" + str(1))\n",
    "    if n > 1:\n",
    "        for k in range(2, n):\n",
    "            fib_tab.append(fib_tab[-2] + fib_tab[-1])\n",
    "            f.write(\"\\n\" + str(fib_tab[-1]))\n",
    "    f.close()\n",
    "\n",
    "fib('fib20.txt', 20)"
   ]
  },
  {
   "cell_type": "code",
   "execution_count": 6,
   "metadata": {},
   "outputs": [
    {
     "name": "stdout",
     "output_type": "stream",
     "text": [
      "Index : 8\n",
      "Erreur : -1\n"
     ]
    }
   ],
   "source": [
    "# 2\n",
    "def fibError(file, error_file):\n",
    "    f1, f2 = open(file, 'r'), open(error_file, 'r')\n",
    "    l1, l2 = f1.readlines(), f2.readlines()\n",
    "    for k in range(len(l1)):\n",
    "        if l1[k] != l2[k]:\n",
    "            break\n",
    "    f1.close()\n",
    "    f2.close()\n",
    "    return k, int(l2[k])-int(l1[k])\n",
    "\n",
    "idx, error = fibError('fib20.txt', 'fib20_erreur.txt')\n",
    "print(\"Index :\", idx)\n",
    "print(\"Erreur :\", error)"
   ]
  },
  {
   "cell_type": "code",
   "execution_count": 7,
   "metadata": {},
   "outputs": [],
   "source": [
    "# 3\n",
    "def fibLine(file, n):\n",
    "    f = open(file, 'w')\n",
    "    fib_tab = [0]\n",
    "    f.write(str(0))\n",
    "    if n >= 1:\n",
    "        fib_tab.append(1)\n",
    "        f.write(' ' + str(1))\n",
    "    if n > 1:\n",
    "        for k in range(2, n):\n",
    "            fib_tab.append(fib_tab[-2] + fib_tab[-1])\n",
    "            f.write(' ' + str(fib_tab[-1]))\n",
    "    f.close()\n",
    "\n",
    "fibLine('fib20_line.txt', 20)"
   ]
  },
  {
   "cell_type": "code",
   "execution_count": 9,
   "metadata": {},
   "outputs": [
    {
     "name": "stdout",
     "output_type": "stream",
     "text": [
      "Index : 15\n",
      "Erreur : 2\n"
     ]
    }
   ],
   "source": [
    "# 4\n",
    "def fibLineError(file, error_file):\n",
    "    f1, f2 = open(file, 'r'), open(error_file, 'r')\n",
    "    l1, l2 = f1.readline().split(' '), f2.readline().split(' ')\n",
    "    for k in range(len(l1)):\n",
    "        if l1[k] != l2[k]:\n",
    "            break\n",
    "    f1.close()\n",
    "    f2.close()\n",
    "    return k, int(l2[k])-int(l1[k])\n",
    "\n",
    "idx, error = fibLineError('fib20_line.txt', 'fib20_erreur_line.txt')\n",
    "print(\"Index :\", idx)\n",
    "print(\"Erreur :\", error)"
   ]
  },
  {
   "cell_type": "markdown",
   "metadata": {},
   "source": [
    "## Ex 2"
   ]
  },
  {
   "cell_type": "code",
   "execution_count": 13,
   "metadata": {},
   "outputs": [
    {
     "name": "stdout",
     "output_type": "stream",
     "text": [
      "Quelle valeur voulez-vous supprimer ? 0\n"
     ]
    },
    {
     "data": {
      "text/plain": [
       "[1, 2, 4]"
      ]
     },
     "execution_count": 13,
     "metadata": {},
     "output_type": "execute_result"
    }
   ],
   "source": [
    "# 1\n",
    "def occurencesDelete(L):\n",
    "    x = int(input('Quelle valeur voulez-vous supprimer ? '))\n",
    "    while x in L:\n",
    "        L.remove(x)\n",
    "\n",
    "L = [0,1,2,0,0,4]\n",
    "occurencesDelete(L)\n",
    "L\n",
    "\n",
    "# Complexité en O(n^2) car au pire des cas, le \"x in L\" parcourt la longueur de la liste, et le \"L.remove(x)\" aussi"
   ]
  },
  {
   "cell_type": "code",
   "execution_count": 14,
   "metadata": {},
   "outputs": [
    {
     "name": "stdout",
     "output_type": "stream",
     "text": [
      "Quelle valeur voulez-vous supprimer ? 0\n"
     ]
    },
    {
     "data": {
      "text/plain": [
       "[1, 2, 4]"
      ]
     },
     "execution_count": 14,
     "metadata": {},
     "output_type": "execute_result"
    }
   ],
   "source": [
    "# 2\n",
    "def occurencesDeleteON(L):\n",
    "    x = int(input('Quelle valeur voulez-vous supprimer ? '))\n",
    "    Lp = []\n",
    "    for c in L:\n",
    "        if c != x:\n",
    "            Lp.append(c)\n",
    "    return Lp\n",
    "\n",
    "L = [0,1,2,0,0,4]\n",
    "L = occurencesDeleteON(L)\n",
    "L\n",
    "\n",
    "# Complexité en O(n) car on parcourt une fois la liste"
   ]
  },
  {
   "cell_type": "markdown",
   "metadata": {},
   "source": [
    "## Ex 3"
   ]
  },
  {
   "cell_type": "code",
   "execution_count": 16,
   "metadata": {},
   "outputs": [
    {
     "name": "stdout",
     "output_type": "stream",
     "text": [
      "Veuillez entrer une chaîne de caractères : Ceci est un exercice de Python\n"
     ]
    },
    {
     "data": {
      "text/plain": [
       "'Python de exercice un est Ceci'"
      ]
     },
     "execution_count": 16,
     "metadata": {},
     "output_type": "execute_result"
    }
   ],
   "source": [
    "def strReverse():\n",
    "    s = input(\"Veuillez entrer une chaîne de caractères : \")\n",
    "    split_s = s.split(' ')\n",
    "    split_s.reverse()\n",
    "    return ' '.join(split_s)\n",
    "\n",
    "strReverse()"
   ]
  },
  {
   "cell_type": "markdown",
   "metadata": {},
   "source": [
    "## Ex 4"
   ]
  },
  {
   "cell_type": "code",
   "execution_count": 5,
   "metadata": {},
   "outputs": [
    {
     "name": "stdout",
     "output_type": "stream",
     "text": [
      "Liste avant filtrage :  [-2.3, 5, -9, 0, 12.5, -6]\n",
      "Liste après filtrage :  [5, 0, 12.5]\n"
     ]
    }
   ],
   "source": [
    "# 1\n",
    "def filtrage(Lr):\n",
    "    for x in Lr:\n",
    "        if x < 0:\n",
    "            Lr.remove(x)\n",
    "\n",
    "# 2\n",
    "Lr = [-2.3,5,-9,0,12.5,-6]\n",
    "print(\"Liste avant filtrage : \", Lr)\n",
    "filtrage(Lr)\n",
    "print(\"Liste après filtrage : \", Lr)"
   ]
  },
  {
   "cell_type": "code",
   "execution_count": 6,
   "metadata": {},
   "outputs": [
    {
     "name": "stdout",
     "output_type": "stream",
     "text": [
      "Liste avant filtrage :  [-2.3, 5, -9, 0, 12.5, -6]\n",
      "Liste après filtrage :  [5, 0, 12.5]\n"
     ]
    }
   ],
   "source": [
    "# 3\n",
    "def consFiltrage(Lr):\n",
    "    f_Lr = []\n",
    "    for x in Lr:\n",
    "        if x >= 0:\n",
    "            f_Lr.append(x)\n",
    "    return f_Lr\n",
    "\n",
    "Lr = [-2.3,5,-9,0,12.5,-6]\n",
    "print(\"Liste avant filtrage : \", Lr)\n",
    "print(\"Liste après filtrage : \", consFiltrage(Lr))"
   ]
  },
  {
   "cell_type": "markdown",
   "metadata": {},
   "source": [
    "## Ex 5"
   ]
  },
  {
   "cell_type": "code",
   "execution_count": 18,
   "metadata": {},
   "outputs": [
    {
     "data": {
      "text/plain": [
       "-13"
      ]
     },
     "execution_count": 18,
     "metadata": {},
     "output_type": "execute_result"
    }
   ],
   "source": [
    "# 1\n",
    "def somme(c):\n",
    "    return sum(c)\n",
    "\n",
    "def coupeMin1(S):\n",
    "    m = S[0]\n",
    "    for i in range(len(S)):\n",
    "        for j in range(i, len(S)):\n",
    "            s = somme(S[i:j])\n",
    "            if s < m:\n",
    "                m = s\n",
    "    return m\n",
    "\n",
    "S = [2,-6,4,5,-10,-3,2]\n",
    "coupeMin1(S)"
   ]
  },
  {
   "cell_type": "code",
   "execution_count": 19,
   "metadata": {},
   "outputs": [
    {
     "data": {
      "text/plain": [
       "-13"
      ]
     },
     "execution_count": 19,
     "metadata": {},
     "output_type": "execute_result"
    }
   ],
   "source": [
    "# 2\n",
    "def coupei(S, i):\n",
    "    m = S[i]\n",
    "    s = m\n",
    "    for k in range(i+1, len(S)):\n",
    "        s += S[k]\n",
    "        if s < m:\n",
    "            m = s\n",
    "    return m\n",
    "\n",
    "def coupeMin2(S):\n",
    "    m = S[0]\n",
    "    for i in range(len(S)):\n",
    "        mi = coupei(S, i)\n",
    "        if mi < m:\n",
    "            m = mi\n",
    "    return m\n",
    "\n",
    "S = [2,-6,4,5,-10,-3,2]\n",
    "coupeMin2(S)"
   ]
  },
  {
   "cell_type": "code",
   "execution_count": 20,
   "metadata": {},
   "outputs": [
    {
     "data": {
      "text/plain": [
       "-13"
      ]
     },
     "execution_count": 20,
     "metadata": {},
     "output_type": "execute_result"
    }
   ],
   "source": [
    "# 3\n",
    "def coupeMin3(S):\n",
    "    v = S[0]\n",
    "    m = v\n",
    "    for i in range(1, len(S)):\n",
    "        m = min(m+S[i], S[i])\n",
    "        v = min(v, m)\n",
    "    return v\n",
    "\n",
    "S = [2,-6,4,5,-10,-3,2]\n",
    "coupeMin3(S)"
   ]
  },
  {
   "cell_type": "code",
   "execution_count": 21,
   "metadata": {},
   "outputs": [
    {
     "name": "stdout",
     "output_type": "stream",
     "text": [
      "\tAlgorithme naif\t\tAlgorithme optimisé\tAlgorithme linéaire\n",
      "100\t0.004987001419067383\t0.0009968280792236328\t0.0\n",
      "600\t0.6792821884155273\t0.019952058792114258\t0.0\n",
      "1100\t4.676499605178833\t0.0857400894165039\t0.0\n",
      "1600\t16.57237982749939\t0.1495978832244873\t0.0009982585906982422\n"
     ]
    }
   ],
   "source": [
    "# 4\n",
    "import time\n",
    "import random\n",
    "sizes = [100 + k*500 for k in range(4)]\n",
    "print(\"\\tAlgorithme naif\\t\\tAlgorithme optimisé\\tAlgorithme linéaire\")\n",
    "for s in sizes:\n",
    "    seq = [random.randint(-10, 10) for k in range(s)]\n",
    "    t0 = time.time()\n",
    "    coupeMin1(seq)\n",
    "    t1 = time.time()\n",
    "    coupeMin2(seq)\n",
    "    t2 = time.time()\n",
    "    coupeMin3(seq)\n",
    "    t3 = time.time()\n",
    "    print(str(s)+\"\\t\"+str(t1-t0)+\"\\t\"+str(t2-t1)+\"\\t\"+str(t3-t2))"
   ]
  },
  {
   "cell_type": "code",
   "execution_count": null,
   "metadata": {},
   "outputs": [],
   "source": []
  }
 ],
 "metadata": {
  "kernelspec": {
   "display_name": "Python 3",
   "language": "python",
   "name": "python3"
  },
  "language_info": {
   "codemirror_mode": {
    "name": "ipython",
    "version": 3
   },
   "file_extension": ".py",
   "mimetype": "text/x-python",
   "name": "python",
   "nbconvert_exporter": "python",
   "pygments_lexer": "ipython3",
   "version": "3.7.3"
  }
 },
 "nbformat": 4,
 "nbformat_minor": 2
}
